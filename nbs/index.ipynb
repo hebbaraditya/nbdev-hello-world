{
 "cells": [
  {
   "cell_type": "code",
   "execution_count": null,
   "metadata": {},
   "outputs": [],
   "source": [
    "#| hide\n",
    "from nbdev_hello_world.core import *"
   ]
  },
  {
   "cell_type": "markdown",
   "metadata": {},
   "source": [
    "# nbdev-hello-world\n",
    "\n",
    "> hello world with nbdev"
   ]
  },
  {
   "cell_type": "markdown",
   "metadata": {},
   "source": [
    "* Installed hooks for git-friendly notebooks with nbdev_install_hooks\n",
    "* Installed your package with pip install -e '.[dev]'\n",
    "* Previewed your docs with nbdev_preview\n",
    "* Added your own frontmatter, function, tests, and docs to 00_core.ipynb\n",
    "* Prepared your changes with nbdev_prepare\n",
    "* Updated index.ipynb with your own information\n",
    "* Pushed to GitHub."
   ]
  }
 ],
 "metadata": {
  "kernelspec": {
   "display_name": "Python 3 (ipykernel)",
   "language": "python",
   "name": "python3"
  }
 },
 "nbformat": 4,
 "nbformat_minor": 4
}
